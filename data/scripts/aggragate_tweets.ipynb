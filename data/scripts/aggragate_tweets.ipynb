{
 "cells": [
  {
   "cell_type": "code",
   "execution_count": 1,
   "metadata": {
    "collapsed": true
   },
   "outputs": [],
   "source": [
    "import os\n",
    "import sys\n",
    "from glob import glob\n",
    "\n",
    "os.chdir('..') if not os.getcwd().endswith('data') else {}"
   ]
  },
  {
   "cell_type": "code",
   "execution_count": 3,
   "outputs": [],
   "source": [
    "sys.path.insert(1, os.path.join(sys.path[0], '..'))\n",
    "from utils.pipeline_utils import *\n",
    "from tqdm.notebook import tqdm\n",
    "from utils.general_utils import normalized_col\n",
    "\n",
    "pd.set_option('display.max_columns', None)"
   ],
   "metadata": {
    "collapsed": false,
    "pycharm": {
     "name": "#%%\n"
    }
   }
  },
  {
   "cell_type": "code",
   "execution_count": 4,
   "outputs": [],
   "source": [
    "pipeline_path = f'{run_prefix}pipeline'\n",
    "pred_path = f'{pipeline_path}/csv/merged/*.csv'\n",
    "files = glob(pred_path)\n",
    "analyze_tweets_dir = f'{run_prefix}data/analyze_tweets'\n",
    "os.makedirs(f'{analyze_tweets_dir}/csv', exist_ok=True)\n",
    "os.makedirs(f'{analyze_tweets_dir}/figs', exist_ok=True)"
   ],
   "metadata": {
    "collapsed": false,
    "pycharm": {
     "name": "#%%\n"
    }
   }
  },
  {
   "cell_type": "markdown",
   "source": [
    "Load Job offer Data"
   ],
   "metadata": {
    "collapsed": false
   }
  },
  {
   "cell_type": "code",
   "execution_count": 5,
   "outputs": [
    {
     "data": {
      "text/plain": "  0%|          | 0/191 [00:00<?, ?it/s]",
      "application/vnd.jupyter.widget-view+json": {
       "version_major": 2,
       "version_minor": 0,
       "model_id": "eb1dc5e3b30f41d184a5e8796ca2942b"
      }
     },
     "metadata": {},
     "output_type": "display_data"
    }
   ],
   "source": [
    "merged_df = pd.concat([pd.read_csv(f, usecols=['created_at', 'category', 'category_label', 'address'], parse_dates=['created_at']) for f in tqdm(files)])"
   ],
   "metadata": {
    "collapsed": false,
    "pycharm": {
     "name": "#%%\n"
    }
   }
  },
  {
   "cell_type": "code",
   "execution_count": 6,
   "outputs": [
    {
     "name": "stdout",
     "output_type": "stream",
     "text": [
      "Total Number os samples: 23172957\n"
     ]
    }
   ],
   "source": [
    "merged_df['state'] = merged_df.address.apply(lambda add: add.split(', ')[-2])\n",
    "merged_df = merged_df.rename(columns={'created_at': 'date'})\n",
    "merged_df = merged_df.set_index('date').drop(['address'], axis=1)\n",
    "print(f\"Total Number os samples: {len(merged_df)}\")"
   ],
   "metadata": {
    "collapsed": false,
    "pycharm": {
     "name": "#%%\n"
    }
   }
  },
  {
   "cell_type": "markdown",
   "source": [
    "Load dedup Data"
   ],
   "metadata": {
    "collapsed": false
   }
  },
  {
   "cell_type": "code",
   "execution_count": 7,
   "outputs": [],
   "source": [
    "tweet_counts = pd.read_csv(f'{run_prefix}data/job_offer/dedup_counts.csv', parse_dates=['date'])[['date', 'total_tweets']]\n",
    "tweet_counts.columns = ['date', 'Twitter']\n",
    "tweet_counts = tweet_counts.set_index('date')"
   ],
   "metadata": {
    "collapsed": false,
    "pycharm": {
     "name": "#%%\n"
    }
   }
  },
  {
   "cell_type": "markdown",
   "source": [
    "Load BGT Data"
   ],
   "metadata": {
    "collapsed": false
   }
  },
  {
   "cell_type": "code",
   "execution_count": 8,
   "outputs": [],
   "source": [
    "bgt_data = pd.read_csv(f'{run_prefix}data/job_offer/jolt data/BGT Data.csv')\n",
    "bgt_data['date'] = pd.to_datetime(bgt_data['date'])\n",
    "bgt_data = bgt_data.set_index('date')"
   ],
   "metadata": {
    "collapsed": false,
    "pycharm": {
     "name": "#%%\n"
    }
   }
  },
  {
   "cell_type": "markdown",
   "source": [
    "Get categories mapping"
   ],
   "metadata": {
    "collapsed": false
   }
  },
  {
   "cell_type": "code",
   "execution_count": 9,
   "outputs": [],
   "source": [
    "cat_map = bgt_data[['category', 'category_label']].drop_duplicates().set_index('category')\n",
    "cat_map.loc[0] = pd.Series({'category_label': 'Armed Forces Occupations'})"
   ],
   "metadata": {
    "collapsed": false,
    "pycharm": {
     "name": "#%%\n"
    }
   }
  },
  {
   "cell_type": "code",
   "execution_count": 10,
   "outputs": [
    {
     "data": {
      "text/plain": "                                             category_label\ncategory                                                   \n 1                                                 Managers\n 2                                            Professionals\n 3                  Technicians and associate professionals\n 4                                 Clerical support workers\n 5                                Service and sales workers\n 6        Skilled agricultural, forestry and fishery wor...\n 7                         Craft and related trades workers\n 8              Plant and machine operators, and assemblers\n 9                                   Elementary occupations\n-1                                                    Total\n 0                                 Armed Forces Occupations",
      "text/html": "<div>\n<style scoped>\n    .dataframe tbody tr th:only-of-type {\n        vertical-align: middle;\n    }\n\n    .dataframe tbody tr th {\n        vertical-align: top;\n    }\n\n    .dataframe thead th {\n        text-align: right;\n    }\n</style>\n<table border=\"1\" class=\"dataframe\">\n  <thead>\n    <tr style=\"text-align: right;\">\n      <th></th>\n      <th>category_label</th>\n    </tr>\n    <tr>\n      <th>category</th>\n      <th></th>\n    </tr>\n  </thead>\n  <tbody>\n    <tr>\n      <th>1</th>\n      <td>Managers</td>\n    </tr>\n    <tr>\n      <th>2</th>\n      <td>Professionals</td>\n    </tr>\n    <tr>\n      <th>3</th>\n      <td>Technicians and associate professionals</td>\n    </tr>\n    <tr>\n      <th>4</th>\n      <td>Clerical support workers</td>\n    </tr>\n    <tr>\n      <th>5</th>\n      <td>Service and sales workers</td>\n    </tr>\n    <tr>\n      <th>6</th>\n      <td>Skilled agricultural, forestry and fishery wor...</td>\n    </tr>\n    <tr>\n      <th>7</th>\n      <td>Craft and related trades workers</td>\n    </tr>\n    <tr>\n      <th>8</th>\n      <td>Plant and machine operators, and assemblers</td>\n    </tr>\n    <tr>\n      <th>9</th>\n      <td>Elementary occupations</td>\n    </tr>\n    <tr>\n      <th>-1</th>\n      <td>Total</td>\n    </tr>\n    <tr>\n      <th>0</th>\n      <td>Armed Forces Occupations</td>\n    </tr>\n  </tbody>\n</table>\n</div>"
     },
     "execution_count": 10,
     "metadata": {},
     "output_type": "execute_result"
    }
   ],
   "source": [
    "cat_map"
   ],
   "metadata": {
    "collapsed": false,
    "pycharm": {
     "name": "#%%\n"
    }
   }
  },
  {
   "cell_type": "code",
   "execution_count": 11,
   "outputs": [
    {
     "data": {
      "text/plain": "0.0     119842\n1.0    3652040\n2.0    9690751\n3.0    3408124\n4.0    1971954\n5.0    1807461\n6.0      79088\n7.0    1235757\n8.0     696997\n9.0     510943\nName: category, dtype: int64"
     },
     "execution_count": 11,
     "metadata": {},
     "output_type": "execute_result"
    }
   ],
   "source": [
    "merged_df['category'].value_counts().sort_index()"
   ],
   "metadata": {
    "collapsed": false,
    "pycharm": {
     "name": "#%%\n"
    }
   }
  },
  {
   "cell_type": "code",
   "execution_count": 12,
   "outputs": [],
   "source": [
    "if 'sub_major' in pred_path:\n",
    "    merged_df['category'] = merged_df['category'] // 10\n",
    "    merged_df['category_label'] = cat_map.loc[merged_df['category']].values"
   ],
   "metadata": {
    "collapsed": false,
    "pycharm": {
     "name": "#%%\n"
    }
   }
  },
  {
   "cell_type": "markdown",
   "source": [
    "Load Employment Data"
   ],
   "metadata": {
    "collapsed": false
   }
  },
  {
   "cell_type": "code",
   "execution_count": 13,
   "outputs": [],
   "source": [
    "employment_data = pd.read_csv(f'{run_prefix}data/job_offer/jolt data/Employment Data.csv')\n",
    "employment_data['date'] = pd.to_datetime(employment_data['date'])\n",
    "employment_data = employment_data.set_index('date')"
   ],
   "metadata": {
    "collapsed": false,
    "pycharm": {
     "name": "#%%\n"
    }
   }
  },
  {
   "cell_type": "markdown",
   "source": [
    "Load Jolt Data"
   ],
   "metadata": {
    "collapsed": false
   }
  },
  {
   "cell_type": "code",
   "execution_count": 14,
   "outputs": [],
   "source": [
    "jolt_data = pd.read_csv(f'{run_prefix}data/job_offer/jolt data/jolt_data.csv')\n",
    "jolt_data['date'] = pd.to_datetime(jolt_data['year'].map(str) + '-' + jolt_data['month'].map(str)) + \\\n",
    "                    pd.tseries.offsets.MonthEnd(0)\n",
    "jolt_data = jolt_data.set_index('date')"
   ],
   "metadata": {
    "collapsed": false,
    "pycharm": {
     "name": "#%%\n"
    }
   }
  },
  {
   "cell_type": "markdown",
   "source": [
    "Twitter Inference - monthly/states"
   ],
   "metadata": {
    "collapsed": false
   }
  },
  {
   "cell_type": "code",
   "execution_count": 15,
   "outputs": [],
   "source": [
    "state_twitter_jolt_monthly = jolt_data.query(\"state!='Total US'\").groupby(['state', 'date']).sum()[\n",
    "    ['JOLTS Job openings', 'JOLTS Hires', 'JOLTS Separations']] * 1000\n",
    "state_twitter_jolt_monthly['Twitter'] = merged_df.groupby('state').resample('M').count()['category']\n",
    "state_twitter_jolt_monthly = state_twitter_jolt_monthly.dropna()\n",
    "state_twitter_jolt_monthly.to_csv(f'{analyze_tweets_dir}/csv/state_twitter_jolt_monthly.csv')"
   ],
   "metadata": {
    "collapsed": false,
    "pycharm": {
     "name": "#%%\n"
    }
   }
  },
  {
   "cell_type": "code",
   "execution_count": 16,
   "outputs": [
    {
     "data": {
      "text/plain": "                    JOLTS Job openings  JOLTS Hires  JOLTS Separations  \\\nJOLTS Job openings            1.000000     0.935863           0.888281   \nJOLTS Hires                   0.935863     1.000000           0.939145   \nJOLTS Separations             0.888281     0.939145           1.000000   \nTwitter                       0.561365     0.691260           0.669025   \n\n                     Twitter  \nJOLTS Job openings  0.561365  \nJOLTS Hires         0.691260  \nJOLTS Separations   0.669025  \nTwitter             1.000000  ",
      "text/html": "<div>\n<style scoped>\n    .dataframe tbody tr th:only-of-type {\n        vertical-align: middle;\n    }\n\n    .dataframe tbody tr th {\n        vertical-align: top;\n    }\n\n    .dataframe thead th {\n        text-align: right;\n    }\n</style>\n<table border=\"1\" class=\"dataframe\">\n  <thead>\n    <tr style=\"text-align: right;\">\n      <th></th>\n      <th>JOLTS Job openings</th>\n      <th>JOLTS Hires</th>\n      <th>JOLTS Separations</th>\n      <th>Twitter</th>\n    </tr>\n  </thead>\n  <tbody>\n    <tr>\n      <th>JOLTS Job openings</th>\n      <td>1.000000</td>\n      <td>0.935863</td>\n      <td>0.888281</td>\n      <td>0.561365</td>\n    </tr>\n    <tr>\n      <th>JOLTS Hires</th>\n      <td>0.935863</td>\n      <td>1.000000</td>\n      <td>0.939145</td>\n      <td>0.691260</td>\n    </tr>\n    <tr>\n      <th>JOLTS Separations</th>\n      <td>0.888281</td>\n      <td>0.939145</td>\n      <td>1.000000</td>\n      <td>0.669025</td>\n    </tr>\n    <tr>\n      <th>Twitter</th>\n      <td>0.561365</td>\n      <td>0.691260</td>\n      <td>0.669025</td>\n      <td>1.000000</td>\n    </tr>\n  </tbody>\n</table>\n</div>"
     },
     "execution_count": 16,
     "metadata": {},
     "output_type": "execute_result"
    }
   ],
   "source": [
    "state_twitter_jolt_monthly_corr = state_twitter_jolt_monthly.corr()  # [['JOLTS Job openings', 'Twitter']]\n",
    "state_twitter_jolt_monthly_corr"
   ],
   "metadata": {
    "collapsed": false,
    "pycharm": {
     "name": "#%%\n"
    }
   }
  },
  {
   "cell_type": "markdown",
   "source": [
    "Twitter (Inference and dedup) and BGT share of Employment - yearly"
   ],
   "metadata": {
    "collapsed": false
   }
  },
  {
   "cell_type": "code",
   "execution_count": 17,
   "outputs": [],
   "source": [
    "us_twitter_bgt_emp_yearly =  employment_data.query(\"category_label!='Total'\").groupby('category').resample('Y').sum()[['employment']].\\\n",
    "    rename({'employment': 'Employment'}, axis=1)\n",
    "us_twitter_bgt_emp_yearly['Twitter'] = merged_df.groupby('category').resample('Y').count()[['category_label']]\n",
    "us_twitter_bgt_emp_yearly['BGT'] = bgt_data.query(\"category_label!='Total'\").groupby('category').resample('Y').sum()['BGT']"
   ],
   "metadata": {
    "collapsed": false,
    "pycharm": {
     "name": "#%%\n"
    }
   }
  },
  {
   "cell_type": "code",
   "execution_count": 18,
   "outputs": [],
   "source": [
    "dfs = []\n",
    "for _, df in us_twitter_bgt_emp_yearly.groupby('date'):\n",
    "    df['Twitter normalized by year'] = normalized_col(df, 'Twitter', 'Employment')\n",
    "    df['BGT normalized by year'] = normalized_col(df, 'BGT', 'Employment')\n",
    "    dfs.append(df)\n",
    "us_twitter_bgt_emp_yearly = pd.concat(dfs)"
   ],
   "metadata": {
    "collapsed": false,
    "pycharm": {
     "name": "#%%\n"
    }
   }
  },
  {
   "cell_type": "code",
   "execution_count": 19,
   "outputs": [],
   "source": [
    "dfs = []\n",
    "for _, df in us_twitter_bgt_emp_yearly.groupby('category'):\n",
    "    df['Twitter normalized by category'] = normalized_col(df, 'Twitter', 'Employment')\n",
    "    df['BGT normalized by category'] = normalized_col(df, 'BGT', 'Employment')\n",
    "    dfs.append(df)\n",
    "us_twitter_bgt_emp_yearly = pd.concat(dfs)"
   ],
   "metadata": {
    "collapsed": false,
    "pycharm": {
     "name": "#%%\n"
    }
   }
  },
  {
   "cell_type": "code",
   "execution_count": 20,
   "outputs": [],
   "source": [
    "us_twitter_bgt_emp_yearly = us_twitter_bgt_emp_yearly.reset_index()\n",
    "us_twitter_bgt_emp_yearly['Category Label'] = cat_map.loc[us_twitter_bgt_emp_yearly['category']].reset_index().category_label\n",
    "us_twitter_bgt_emp_yearly.to_csv(f'{analyze_tweets_dir}/csv/us_twitter_bgt_emp_yearly.csv', index=False)"
   ],
   "metadata": {
    "collapsed": false,
    "pycharm": {
     "name": "#%%\n"
    }
   }
  },
  {
   "cell_type": "code",
   "execution_count": 21,
   "outputs": [
    {
     "data": {
      "text/plain": "                                    category  Employment   Twitter       BGT  \\\ncategory                        1.000000e+00   -0.265855 -0.613783 -0.618581   \nEmployment                     -2.658548e-01    1.000000  0.397767  0.650402   \nTwitter                        -6.137833e-01    0.397767  1.000000  0.706061   \nBGT                            -6.185810e-01    0.650402  0.706061  1.000000   \nTwitter normalized by year     -6.158833e-01   -0.112878  0.741699  0.552116   \nBGT normalized by year         -6.545000e-01   -0.070316  0.708387  0.602741   \nTwitter normalized by category  1.828005e-17    0.003904  0.351756 -0.058816   \nBGT normalized by category     -1.626275e-17    0.056946 -0.027190  0.278560   \n\n                                Twitter normalized by year  \\\ncategory                                         -0.615883   \nEmployment                                       -0.112878   \nTwitter                                           0.741699   \nBGT                                               0.552116   \nTwitter normalized by year                        1.000000   \nBGT normalized by year                            0.964034   \nTwitter normalized by category                    0.048290   \nBGT normalized by category                        0.028165   \n\n                                BGT normalized by year  \\\ncategory                                     -0.654500   \nEmployment                                   -0.070316   \nTwitter                                       0.708387   \nBGT                                           0.602741   \nTwitter normalized by year                    0.964034   \nBGT normalized by year                        1.000000   \nTwitter normalized by category                0.048261   \nBGT normalized by category                    0.072509   \n\n                                Twitter normalized by category  \\\ncategory                                          1.828005e-17   \nEmployment                                        3.904318e-03   \nTwitter                                           3.517561e-01   \nBGT                                              -5.881604e-02   \nTwitter normalized by year                        4.828952e-02   \nBGT normalized by year                            4.826147e-02   \nTwitter normalized by category                    1.000000e+00   \nBGT normalized by category                        2.541677e-02   \n\n                                BGT normalized by category  \ncategory                                     -1.626275e-17  \nEmployment                                    5.694561e-02  \nTwitter                                      -2.719039e-02  \nBGT                                           2.785601e-01  \nTwitter normalized by year                    2.816506e-02  \nBGT normalized by year                        7.250885e-02  \nTwitter normalized by category                2.541677e-02  \nBGT normalized by category                    1.000000e+00  ",
      "text/html": "<div>\n<style scoped>\n    .dataframe tbody tr th:only-of-type {\n        vertical-align: middle;\n    }\n\n    .dataframe tbody tr th {\n        vertical-align: top;\n    }\n\n    .dataframe thead th {\n        text-align: right;\n    }\n</style>\n<table border=\"1\" class=\"dataframe\">\n  <thead>\n    <tr style=\"text-align: right;\">\n      <th></th>\n      <th>category</th>\n      <th>Employment</th>\n      <th>Twitter</th>\n      <th>BGT</th>\n      <th>Twitter normalized by year</th>\n      <th>BGT normalized by year</th>\n      <th>Twitter normalized by category</th>\n      <th>BGT normalized by category</th>\n    </tr>\n  </thead>\n  <tbody>\n    <tr>\n      <th>category</th>\n      <td>1.000000e+00</td>\n      <td>-0.265855</td>\n      <td>-0.613783</td>\n      <td>-0.618581</td>\n      <td>-0.615883</td>\n      <td>-0.654500</td>\n      <td>1.828005e-17</td>\n      <td>-1.626275e-17</td>\n    </tr>\n    <tr>\n      <th>Employment</th>\n      <td>-2.658548e-01</td>\n      <td>1.000000</td>\n      <td>0.397767</td>\n      <td>0.650402</td>\n      <td>-0.112878</td>\n      <td>-0.070316</td>\n      <td>3.904318e-03</td>\n      <td>5.694561e-02</td>\n    </tr>\n    <tr>\n      <th>Twitter</th>\n      <td>-6.137833e-01</td>\n      <td>0.397767</td>\n      <td>1.000000</td>\n      <td>0.706061</td>\n      <td>0.741699</td>\n      <td>0.708387</td>\n      <td>3.517561e-01</td>\n      <td>-2.719039e-02</td>\n    </tr>\n    <tr>\n      <th>BGT</th>\n      <td>-6.185810e-01</td>\n      <td>0.650402</td>\n      <td>0.706061</td>\n      <td>1.000000</td>\n      <td>0.552116</td>\n      <td>0.602741</td>\n      <td>-5.881604e-02</td>\n      <td>2.785601e-01</td>\n    </tr>\n    <tr>\n      <th>Twitter normalized by year</th>\n      <td>-6.158833e-01</td>\n      <td>-0.112878</td>\n      <td>0.741699</td>\n      <td>0.552116</td>\n      <td>1.000000</td>\n      <td>0.964034</td>\n      <td>4.828952e-02</td>\n      <td>2.816506e-02</td>\n    </tr>\n    <tr>\n      <th>BGT normalized by year</th>\n      <td>-6.545000e-01</td>\n      <td>-0.070316</td>\n      <td>0.708387</td>\n      <td>0.602741</td>\n      <td>0.964034</td>\n      <td>1.000000</td>\n      <td>4.826147e-02</td>\n      <td>7.250885e-02</td>\n    </tr>\n    <tr>\n      <th>Twitter normalized by category</th>\n      <td>1.828005e-17</td>\n      <td>0.003904</td>\n      <td>0.351756</td>\n      <td>-0.058816</td>\n      <td>0.048290</td>\n      <td>0.048261</td>\n      <td>1.000000e+00</td>\n      <td>2.541677e-02</td>\n    </tr>\n    <tr>\n      <th>BGT normalized by category</th>\n      <td>-1.626275e-17</td>\n      <td>0.056946</td>\n      <td>-0.027190</td>\n      <td>0.278560</td>\n      <td>0.028165</td>\n      <td>0.072509</td>\n      <td>2.541677e-02</td>\n      <td>1.000000e+00</td>\n    </tr>\n  </tbody>\n</table>\n</div>"
     },
     "execution_count": 21,
     "metadata": {},
     "output_type": "execute_result"
    }
   ],
   "source": [
    "us_twitter_bgt_emp_yearly_corr = us_twitter_bgt_emp_yearly.corr()  # [['Twitter', 'BGT', 'Employment']]\n",
    "us_twitter_bgt_emp_yearly_corr"
   ],
   "metadata": {
    "collapsed": false,
    "pycharm": {
     "name": "#%%\n"
    }
   }
  }
 ],
 "metadata": {
  "kernelspec": {
   "display_name": "Python 3",
   "language": "python",
   "name": "python3"
  },
  "language_info": {
   "codemirror_mode": {
    "name": "ipython",
    "version": 2
   },
   "file_extension": ".py",
   "mimetype": "text/x-python",
   "name": "python",
   "nbconvert_exporter": "python",
   "pygments_lexer": "ipython2",
   "version": "2.7.6"
  }
 },
 "nbformat": 4,
 "nbformat_minor": 0
}